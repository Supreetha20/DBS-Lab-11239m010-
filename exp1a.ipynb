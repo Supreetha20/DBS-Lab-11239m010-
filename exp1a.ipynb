{
  "nbformat": 4,
  "nbformat_minor": 0,
  "metadata": {
    "colab": {
      "provenance": [],
      "authorship_tag": "ABX9TyPVdYUo7uz1s+pvWg8Hmas9",
      "include_colab_link": true
    },
    "kernelspec": {
      "name": "python3",
      "display_name": "Python 3"
    },
    "language_info": {
      "name": "python"
    }
  },
  "cells": [
    {
      "cell_type": "markdown",
      "metadata": {
        "id": "view-in-github",
        "colab_type": "text"
      },
      "source": [
        "<a href=\"https://colab.research.google.com/github/Supreetha20/DBS-Lab-11239m010-/blob/main/exp1a.ipynb\" target=\"_parent\"><img src=\"https://colab.research.google.com/assets/colab-badge.svg\" alt=\"Open In Colab\"/></a>"
      ]
    },
    {
      "cell_type": "code",
      "metadata": {
        "colab": {
          "base_uri": "https://localhost:8080/"
        },
        "id": "50db8b80",
        "outputId": "3a748a3b-ac32-4466-b074-ff4db4148595"
      },
      "source": [
        "import sqlite3\n",
        "conn = sqlite3.connect('STUDENTS.db')\n",
        "conn.close()\n",
        "print(\"Database 'STUDENTS.db' created successfully.\")"
      ],
      "execution_count": 7,
      "outputs": [
        {
          "output_type": "stream",
          "name": "stdout",
          "text": [
            "Database 'STUDENTS.db' created successfully.\n"
          ]
        }
      ]
    }
  ]
}